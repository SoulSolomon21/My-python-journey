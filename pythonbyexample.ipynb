{
 "cells": [
  {
   "cell_type": "markdown",
   "metadata": {},
   "source": [
    "printing and inputing data"
   ]
  },
  {
   "cell_type": "code",
   "execution_count": null,
   "metadata": {},
   "outputs": [],
   "source": [
    "name = input(\"Please enter you name\")\n",
    "print(\"Hello\", name)"
   ]
  },
  {
   "cell_type": "code",
   "execution_count": null,
   "metadata": {},
   "outputs": [],
   "source": [
    "firstname = input(\"Enter your first name\")\n",
    "surname = input(\"Enter your surname\")\n",
    "\n",
    "print(\"Hello\", firstname,surname)"
   ]
  },
  {
   "cell_type": "code",
   "execution_count": null,
   "metadata": {},
   "outputs": [],
   "source": [
    "print(\"What do you call a bear with no teeth\\nA gummy bear\")"
   ]
  },
  {
   "cell_type": "code",
   "execution_count": null,
   "metadata": {},
   "outputs": [],
   "source": [
    "num1 = int(input(\"enter the first number\"))\n",
    "num2 = int(input(\"enter the second number\"))\n",
    "answer = num1 + num2\n",
    "print(\"the answer is \", answer)"
   ]
  },
  {
   "cell_type": "code",
   "execution_count": null,
   "metadata": {},
   "outputs": [],
   "source": [
    "num1 = int(input(\"enter the first number\"))\n",
    "num2 = int(input(\"enter the second number\"))\n",
    "num3 = int(input(\"enter the third number\"))\n",
    "\n",
    "answer = (num1 + num2) * num3\n",
    "print(\"the answer is \", answer)"
   ]
  },
  {
   "cell_type": "code",
   "execution_count": null,
   "metadata": {},
   "outputs": [],
   "source": [
    "days = int(input(\"Enter a number of days\"))\n",
    "\n",
    "hours = days * 24\n",
    "minutes = days * 24 * 60\n",
    "seconds = days * 24 *60 * 3600\n",
    "\n",
    "print(\"there are \", hours ,\"hours in \",days ,\" days\")\n",
    "print(\"there are \", minutes ,\"minutes in \",days ,\" days\")\n",
    "print(\"there are \", seconds ,\"seconds in \",days ,\" days\")"
   ]
  },
  {
   "cell_type": "code",
   "execution_count": null,
   "metadata": {},
   "outputs": [],
   "source": [
    "bigger_num = int(input(\"Enter a number above 100\"))\n",
    "smaller_num = int(input(\"Enter a number smaller than 10\"))\n",
    "\n",
    "times = bigger_num//smaller_num\n",
    "print(smaller_num, \" goes into \", bigger_num, times,\" times.\")"
   ]
  },
  {
   "cell_type": "markdown",
   "metadata": {},
   "source": [
    "if statements\n"
   ]
  },
  {
   "cell_type": "code",
   "execution_count": null,
   "metadata": {},
   "outputs": [],
   "source": [
    "num1 = int(input(\"enter the first number\"))\n",
    "num2 = int(input(\"enter the second number\"))\n",
    "\n",
    "#if the first number is larger than the second number, display the second number first, otherwise display the first number first\n",
    "if num1 > num2:\n",
    "    print(num1,num2)\n",
    "else:\n",
    "    print(num2,num1)\n",
    "    "
   ]
  },
  {
   "cell_type": "code",
   "execution_count": null,
   "metadata": {},
   "outputs": [],
   "source": [
    "number = int(input(\"Enter a number under 20\"))\n",
    "\n",
    "if number >= 20:\n",
    "    print(\"Too high\")\n",
    "else:\n",
    "    print(\"Thank you\")"
   ]
  },
  {
   "cell_type": "code",
   "execution_count": null,
   "metadata": {},
   "outputs": [],
   "source": [
    "number = int(input(\"Enter a number from 10 to 20 inclusive\"))\n",
    "\n",
    "if number >= 10 and number<=20:\n",
    "    print(\"Thank you\")\n",
    "else:\n",
    "    print(\"Incorrect answer\")\n",
    "    "
   ]
  },
  {
   "cell_type": "code",
   "execution_count": null,
   "metadata": {},
   "outputs": [],
   "source": [
    "color = str(input(\"Enter your favorite color\"))\n",
    "\n",
    "if color == 'red' or color == 'Red' or color == 'RED':\n",
    "    print(\"I like red too\")\n",
    "else:\n",
    "    print(\"I dont like\", color, \", I prefer red\")\n",
    "    "
   ]
  },
  {
   "cell_type": "code",
   "execution_count": null,
   "metadata": {},
   "outputs": [],
   "source": [
    "weather = str(input(\"Is it raining?\"))\n",
    "weather = str.lower(weather)\n",
    "\n",
    "if weather == 'yes':\n",
    "    windy = str(input(\"Is it windy?\"))\n",
    "    if windy == 'yes':\n",
    "        print(\"It is too windy for an umbrella\")\n",
    "    elif windy == 'no':\n",
    "        print(\"Take an umbrella\")\n",
    "    else:\n",
    "        print(\"please enter either yes or no\")\n",
    "elif weather == 'no':\n",
    "    print(\"Enjoy your day\")\n",
    "else:\n",
    "    print(\"please enter either yes or no\")\n",
    "    "
   ]
  },
  {
   "cell_type": "markdown",
   "metadata": {},
   "source": [
    "Strings"
   ]
  },
  {
   "cell_type": "code",
   "execution_count": null,
   "metadata": {},
   "outputs": [],
   "source": [
    "#how to make multiple line strings\n",
    "#triple quotes help to preserve the formatting of the text\n",
    "address = \"\"\"123 Long Lane\n",
    "Old Town Road\n",
    "P.O Box 2341\"\"\"\n",
    "print(address)"
   ]
  },
  {
   "cell_type": "markdown",
   "metadata": {},
   "source": [
    "some examples of string functions in python\n",
    "# len(word) - this finds the length of the word variable\n",
    "# word.upper() - changes the string to upper case\n",
    "# word.capitalise - displays such that only the first word has a capital letter and everything eslse is in lowercase\n",
    "# word.lower() - changes a word to lowercase\n",
    "# name = word1+word2 - concatenates the two strings without space between them\n",
    "# word.title() - makes the first letter of every word capital\n",
    "# text.strip(\"a\") - this goes to the text variable and removes all occurences of the letter a\n",
    "# print(\"Hello World\"[7:10]) - this would print \"orl\""
   ]
  },
  {
   "cell_type": "code",
   "execution_count": null,
   "metadata": {},
   "outputs": [],
   "source": [
    "firstname = str(input(\"Enter your first name\"))\n",
    "\n",
    "if len(firstname) < 5:\n",
    "    surname = str(input(\"Enter your surname\"))\n",
    "    fullname = firstname+surname\n",
    "    print(fullname.upper())\n",
    "elif len(firstname) >= 5:\n",
    "    print(firstname.lower())\n",
    "    "
   ]
  },
  {
   "cell_type": "code",
   "execution_count": null,
   "metadata": {},
   "outputs": [],
   "source": [
    "word = str(input(\"Enter a word\"))\n",
    "length = len(word)\n",
    "\n",
    "if word[0] == 'a' or word[0] == 'e' or word[0] == 'i' or word[0] == 'o' or word[0] == 'u':\n",
    "    print(word+'way')\n",
    "else:\n",
    "    new_word = (word[1:]+word[0]+'ay')\n",
    "    print(new_word)"
   ]
  },
  {
   "cell_type": "markdown",
   "metadata": {},
   "source": [
    "Maths"
   ]
  },
  {
   "cell_type": "code",
   "execution_count": null,
   "metadata": {},
   "outputs": [],
   "source": [
    "import math\n",
    "num = float(input(\"Enter a number with decimal places\"))\n",
    "num *= 2\n",
    "\n",
    "print(num)"
   ]
  },
  {
   "cell_type": "code",
   "execution_count": null,
   "metadata": {},
   "outputs": [],
   "source": [
    "import math\n",
    "num = float(input(\"Enter a number with decimal places\"))\n",
    "num *= 2\n",
    "\n",
    "print(round(num,2)) #num rounded to 2 decimal places"
   ]
  },
  {
   "cell_type": "code",
   "execution_count": null,
   "metadata": {},
   "outputs": [],
   "source": [
    "import math\n",
    "print(round(math.pi,5)) # pi rounded to five  decimal places"
   ]
  },
  {
   "cell_type": "code",
   "execution_count": null,
   "metadata": {},
   "outputs": [],
   "source": [
    "import math\n",
    "num = int(input(\"Enter a number above 500\"))\n",
    "answer = math.sqrt(num)\n",
    "\n",
    "print(round(answer,2))"
   ]
  },
  {
   "cell_type": "code",
   "execution_count": null,
   "metadata": {},
   "outputs": [],
   "source": [
    "import math\n",
    "radius = float(input(\"Enter the radius of the circle \"))\n",
    "area = math.pi * (radius**2)\n",
    "print(round(area,2))"
   ]
  },
  {
   "cell_type": "code",
   "execution_count": null,
   "metadata": {},
   "outputs": [],
   "source": [
    "import math\n",
    "radius = float(input(\"Enter the radius of the cylinder \"))\n",
    "depth = float(input(\"Enter the depth of the cylinder \"))\n",
    "\n",
    "area = math.pi * (radius**2) * depth\n",
    "print(round(area,3))"
   ]
  },
  {
   "cell_type": "code",
   "execution_count": null,
   "metadata": {},
   "outputs": [],
   "source": [
    "num1 = int(input(\"Enter the number to be divided \"))\n",
    "num2 = int(input(\"Enter the divisor \"))\n",
    "\n",
    "whole = num1//num2\n",
    "remain = num1%num2\n",
    "\n",
    "print(f\"{num1} divided by {num2} is {whole} with a remainder of {remain}\")"
   ]
  },
  {
   "cell_type": "code",
   "execution_count": null,
   "metadata": {},
   "outputs": [],
   "source": [
    "print(\"1) Square\")\n",
    "print(\"2) Triangle\")\n",
    "\n",
    "num = int(input(\"Enter a number \"))\n",
    "\n",
    "if num == 1:\n",
    "    side = int(input(\"Enter the length of one of its sides \"))\n",
    "    area = side**2\n",
    "    print(area)\n",
    "elif num == 2:\n",
    "    base = int(input(\"Enter the base of the triangle\"))\n",
    "    height = int(input(\"Enter the height of the triangle\"))\n",
    "    area = 0.5*base*height\n",
    "    print(area)\n",
    "else:\n",
    "    print(\"Please enter either 1 or 2\")\n"
   ]
  },
  {
   "cell_type": "markdown",
   "metadata": {},
   "source": [
    "For Loop"
   ]
  },
  {
   "cell_type": "code",
   "execution_count": null,
   "metadata": {},
   "outputs": [],
   "source": [
    "for i in range(1,10): #this goes from 1 to 9, the for loop always excludes the last one\n",
    "    print(i)\n",
    "\n",
    "#if there is no third parameter in the brackets then the increment is one\n"
   ]
  },
  {
   "cell_type": "code",
   "execution_count": null,
   "metadata": {},
   "outputs": [],
   "source": [
    "for i in range(1,10,2):# here the incremeent is 2\n",
    "    print(i)\n",
    "    "
   ]
  },
  {
   "cell_type": "code",
   "execution_count": null,
   "metadata": {},
   "outputs": [],
   "source": [
    "word = \"extravagant\"\n",
    "for i in word:\n",
    "    print(i)\n",
    "    "
   ]
  },
  {
   "cell_type": "code",
   "execution_count": null,
   "metadata": {},
   "outputs": [],
   "source": [
    "word = str(input(\"Enter a statement: \"))\n",
    "vowels = \"aeiou\"\n",
    "count = 0\n",
    "\n",
    "for i in word:\n",
    "    if i in vowels:\n",
    "        count += 1\n",
    "print(f\"There are {count} vowels in the statement \\\"{word}\\\"\")\n"
   ]
  },
  {
   "cell_type": "code",
   "execution_count": null,
   "metadata": {},
   "outputs": [],
   "source": [
    "name = str(input(\"enter your name: \"))\n",
    "\n",
    "for i in range(0,3):\n",
    "    print(name)\n",
    "    "
   ]
  },
  {
   "cell_type": "code",
   "execution_count": null,
   "metadata": {},
   "outputs": [],
   "source": [
    "name = str(input(\"enter your name: \"))\n",
    "num = int(input(\"Enter a number of times you  want your name to be shown\"))\n",
    "\n",
    "for i in range(0,num):\n",
    "    print(name)"
   ]
  },
  {
   "cell_type": "code",
   "execution_count": null,
   "metadata": {},
   "outputs": [],
   "source": [
    "name = str(input(\"enter your name: \"))\n",
    "\n",
    "for i in name:\n",
    "    print(i)"
   ]
  },
  {
   "cell_type": "code",
   "execution_count": null,
   "metadata": {},
   "outputs": [],
   "source": [
    "name = str(input(\"enter your name: \"))\n",
    "num = int(input(\"Enter a number of times\"))\n",
    "\n",
    "for i in range(0,num):\n",
    "    for i in name:\n",
    "        print(i)"
   ]
  },
  {
   "cell_type": "code",
   "execution_count": null,
   "metadata": {},
   "outputs": [],
   "source": [
    "for i in range(100,0,-1):\n",
    "    if i % 3 ==0:\n",
    "        print(i)"
   ]
  },
  {
   "cell_type": "code",
   "execution_count": null,
   "metadata": {},
   "outputs": [],
   "source": [
    "for i in range(99,0,-3):\n",
    "    print(i)"
   ]
  },
  {
   "cell_type": "code",
   "execution_count": null,
   "metadata": {},
   "outputs": [],
   "source": [
    "num = int(input(\"enter a number:\"))\n",
    "\n",
    "for i in range(0,13,1):\n",
    "    print(f\"{num} * {i} =\", num*i)\n",
    "    "
   ]
  },
  {
   "cell_type": "code",
   "execution_count": null,
   "metadata": {},
   "outputs": [],
   "source": [
    "num = int(input(\"Enter a number below 50\"))\n",
    "\n",
    "for i in range(50,num-1,-1):\n",
    "    print(i)"
   ]
  },
  {
   "cell_type": "code",
   "execution_count": null,
   "metadata": {},
   "outputs": [],
   "source": [
    "name = str(input(\"enter your name: \"))\n",
    "num = int(input(\"Enter a number of times\"))\n",
    "\n",
    "if num < 10:\n",
    "    for i in range(0,num):\n",
    "        print(name)\n",
    "else:\n",
    "    for i in range(0,3):\n",
    "        print(\"too high\")\n",
    "        \n",
    "    "
   ]
  },
  {
   "cell_type": "code",
   "execution_count": null,
   "metadata": {},
   "outputs": [],
   "source": [
    "total = 0\n",
    "\n",
    "for i in range(0,5):\n",
    "    num = int(input(\"Enter a number \"))\n",
    "    choice = str(input(\"Do you want to add this number to the total? if yes, enter y ,if no enter n \"))\n",
    "    if choice == 'y':\n",
    "        total += num\n",
    "    elif choice == 'y':\n",
    "        total += 0\n",
    "\n",
    "print(total)        \n",
    "       \n",
    "    "
   ]
  },
  {
   "cell_type": "code",
   "execution_count": null,
   "metadata": {},
   "outputs": [],
   "source": [
    "choice = str(input(\"Do you want to count going up or down??\")).lower()\n",
    "\n",
    "if choice == 'up':\n",
    "    start = int(input(\"What is the top number?\"))\n",
    "    for i in range(1,start+1):\n",
    "        print(i)\n",
    "elif choice == 'down':\n",
    "    down = int(input(\"Enter a number below 20\"))\n",
    "    for i in range(20,down-1,-1):\n",
    "        print(i)\n",
    "else:\n",
    "    print(\"I dont understand\")\n",
    "        "
   ]
  },
  {
   "cell_type": "code",
   "execution_count": null,
   "metadata": {},
   "outputs": [],
   "source": [
    "people = int(input(\"How many people have been invited to the party?\"))\n",
    "\n",
    "if people < 10:\n",
    "    for i in range(0,people):\n",
    "        name = str(input(\"Enter a name\"))\n",
    "        print(f\"{name} has been invited \")\n",
    "elif people >= 10:\n",
    "    print(\"Too many people\")\n",
    "\n"
   ]
  },
  {
   "cell_type": "markdown",
   "metadata": {},
   "source": [
    "While loop\n"
   ]
  },
  {
   "cell_type": "code",
   "execution_count": null,
   "metadata": {},
   "outputs": [],
   "source": [
    "again = 'yes'\n",
    "\n",
    "while again == 'yes':\n",
    "    print(\"hello\")\n",
    "    again = input(\"do you want to loop again? \")"
   ]
  },
  {
   "cell_type": "code",
   "execution_count": null,
   "metadata": {},
   "outputs": [],
   "source": [
    "total = 0\n",
    "while total < 100:\n",
    "    num = int(input(\"Enter a number: \"))\n",
    "    total = total + num\n",
    "print(\"The total is\", total)"
   ]
  },
  {
   "cell_type": "code",
   "execution_count": null,
   "metadata": {},
   "outputs": [],
   "source": [
    "total = 0\n",
    "while total <= 50:\n",
    "    num = int(input(\"Enter a number: \"))\n",
    "    total += num\n",
    "print(f\"The total is {total}\")"
   ]
  },
  {
   "cell_type": "code",
   "execution_count": null,
   "metadata": {},
   "outputs": [],
   "source": [
    "num = 0\n",
    "while num < 6:\n",
    "    num = int(input(\"Enter a number: \"))\n",
    "print(\"the last number you entered was {}\".format(num))"
   ]
  },
  {
   "cell_type": "code",
   "execution_count": null,
   "metadata": {},
   "outputs": [],
   "source": [
    "total = 0\n",
    "answer = \"y\"\n",
    "\n",
    "while answer == 'y':\n",
    "    num = int(input(\"Enter a number\"))\n",
    "    total += num\n",
    "    answer = str(input(\"do you want to enter another number?\")).lower()\n",
    "print(f\"The total is {total}\")"
   ]
  },
  {
   "cell_type": "code",
   "execution_count": null,
   "metadata": {},
   "outputs": [],
   "source": [
    "answer = 'y'\n",
    "count = 0\n",
    "while answer == 'y':\n",
    "    name = input(\"Who do you want to invite?\")\n",
    "    print(f\"{name} has been invited\")\n",
    "    count += 1\n",
    "    answer = input(\"Do you want to invite anyone else?\")\n",
    "print(f\"You have invited {count} people\")\n",
    "\n"
   ]
  },
  {
   "cell_type": "code",
   "execution_count": null,
   "metadata": {},
   "outputs": [],
   "source": [
    "compnum = 50\n",
    "count = 0\n",
    "guess = 0 \n",
    "while guess != compnum:\n",
    "    guess = int(input(\"Enter a number: \"))\n",
    "    if guess > compnum:\n",
    "        print(\"Too high, guess again\") \n",
    "        count += 1\n",
    "    elif guess < compnum:\n",
    "        print(\"too low, guess again\")\n",
    "        count += 1\n",
    "print(f\"Well done, you took {count} attempts\")\n",
    "        "
   ]
  },
  {
   "cell_type": "code",
   "execution_count": null,
   "metadata": {},
   "outputs": [],
   "source": [
    "num = int(input(\"Enter a value between 10 and 20\"))\n",
    "while num < 10 or num > 20:\n",
    "    if num < 10:\n",
    "        print(\"too low\")\n",
    "    elif num > 20:\n",
    "        print(\"too high\")\n",
    "    num = int(input(\"Enter a value between 10 and 20\"))\n",
    "print(\"Thank you\")\n",
    "        "
   ]
  },
  {
   "cell_type": "code",
   "execution_count": null,
   "metadata": {},
   "outputs": [],
   "source": [
    "bottles = 10\n",
    "num = 0\n",
    "while bottles != 0:\n",
    "    print(f\"There are {bottles} green bottles hanging on the wall, {bottles} green bottles hanging on the wall, and if 1 green bottle should accidentally fall.\")\n",
    "    bottles -= 1\n",
    "    num = int(input(\"how many green bottles will be hanging on the wall?\"))\n",
    "    if num == bottles:\n",
    "        print(f\"There will be {bottles} green bottles hanging on the wall\")\n",
    "    elif num != bottles:\n",
    "        print(\"No try again\")  \n",
    "        bottles += 1      \n",
    "print(\"There are no more green bottles hanging on the wall\")\n"
   ]
  },
  {
   "cell_type": "markdown",
   "metadata": {},
   "source": [
    "Random"
   ]
  },
  {
   "cell_type": "code",
   "execution_count": null,
   "metadata": {},
   "outputs": [],
   "source": [
    "import random\n",
    "# in order to use the random library, you must always import it at the start of your code\n",
    "num = random.random() #this gives you a random floating point number between 0 and 1\n",
    "print(num)\n",
    "numb = random.randint(0,9) # this gives a random whole number in the range given limits inclusive\n",
    "print(numb)\n",
    "number = random.randrange(0,100,5) #this gives a random number between the first two digits in steps of the last value\n",
    "print(number)\n",
    "colour = ['green','red','blue','white','orange','cerulean']\n",
    "print(random.choice(colour)) #this picks a random value from the options given\n"
   ]
  },
  {
   "cell_type": "code",
   "execution_count": null,
   "metadata": {},
   "outputs": [],
   "source": [
    "import random\n",
    "\n",
    "num = random.randint(1,100)\n",
    "print(num)"
   ]
  },
  {
   "cell_type": "code",
   "execution_count": null,
   "metadata": {},
   "outputs": [],
   "source": [
    "fruits = ['apple','kiwi','mango','pear','banana']\n",
    "best = random.choice(fruits)\n",
    "print(best)"
   ]
  },
  {
   "cell_type": "code",
   "execution_count": null,
   "metadata": {},
   "outputs": [],
   "source": [
    "faces = ['h','t']\n",
    "win = False\n",
    "while win == False:\n",
    "    user = str(input(\"Choose either heads(h) or tails(t)\"))\n",
    "    coin = random.choice(faces)\n",
    "    if user == coin:\n",
    "        print(\"You win\")\n",
    "        win = True\n",
    "    elif user != coin:\n",
    "        print(\"Bad luck\")\n",
    "    \n",
    "\n",
    "if coin == 'h':\n",
    "    print(\"The computer chose Heads\")\n",
    "else:\n",
    "    print(\"The computer chose Tails\")\n",
    "    \n",
    "        \n",
    "    "
   ]
  },
  {
   "cell_type": "code",
   "execution_count": null,
   "metadata": {},
   "outputs": [],
   "source": [
    "import random\n",
    "\n",
    "num = random.randint(1,5)\n",
    "correct = False\n",
    "\n",
    "while correct == False:\n",
    "    first = int(input(\"Choose a number between 1 and 5\"))\n",
    "    if num == first:\n",
    "        print(\"Well done\")\n",
    "        correct = True\n",
    "    elif num != first:\n",
    "        if num > first:\n",
    "            print(\"Too high\")\n",
    "        elif num < first:\n",
    "            print(\"Too low\")\n",
    "        \n",
    "        second = int(input(\"Choose a second number between 1 and 5\"))\n",
    "        if second == num:\n",
    "            print(\"Correct\")\n",
    "            correct = True\n",
    "        elif second != num:\n",
    "            print(\"You lose\")\n",
    "    \n"
   ]
  },
  {
   "cell_type": "code",
   "execution_count": null,
   "metadata": {},
   "outputs": [],
   "source": [
    "import random\n",
    "num = random.randint(1,10)\n",
    "correct = False\n",
    "while correct == False:\n",
    "    user = int(input(\"Enter a number between 1 and 10\"))\n",
    "    if user != num:\n",
    "        if user > num:\n",
    "            print(\"Too high\")\n",
    "        elif user < num:\n",
    "            print(\"Too low\")\n",
    "    elif user == num:\n",
    "        print(\"Correct\")\n",
    "        correct = True\n",
    "    "
   ]
  },
  {
   "cell_type": "code",
   "execution_count": null,
   "metadata": {},
   "outputs": [],
   "source": [
    "import random\n",
    "score = 0\n",
    "num1 = random.randint(1,20)\n",
    "num2 = random.randint(1,20)\n",
    "\n",
    "tries = 0\n",
    "\n",
    "while tries <= 5:\n",
    "    print(f\"What is {num1} + {num2} ?\")\n",
    "    user = int(input(\"Enter you answer\"))\n",
    "    correct = num1 + num2\n",
    "    if user == correct:\n",
    "        score += 1\n",
    "    tries += 1\n",
    "print(f\"You have passed \")\n"
   ]
  },
  {
   "cell_type": "markdown",
   "metadata": {},
   "source": [
    "Tuples ,Lists and Dictionaries"
   ]
  },
  {
   "cell_type": "markdown",
   "metadata": {},
   "source": [
    "Tuples - \n",
    "Once a tuple is defined, you cannot change what is stored in it\n",
    "\n",
    "Lists - these are python arrays\n",
    "they can store multiple values, the values can be changed, the values can be of different datatypes\n",
    "\n",
    "Dictionaries - \n",
    "contents of a dictionary can be changed while a program is running. each value is given an index or key that can be used to identify it. the index or key will not change when data is added or deleted"
   ]
  },
  {
   "cell_type": "code",
   "execution_count": null,
   "metadata": {},
   "outputs": [],
   "source": [
    "fruit_tuple = ('apple', 'banana','strawbwerry','orange')\n",
    "print(fruit_tuple)"
   ]
  }
 ],
 "metadata": {
  "interpreter": {
   "hash": "84bf29917341cdb8a22d6fc144d5e7cb4a71d030ed7aee8e06fba7e52b1d86a0"
  },
  "kernelspec": {
   "display_name": "Python 3.10.4 64-bit",
   "language": "python",
   "name": "python3"
  },
  "language_info": {
   "codemirror_mode": {
    "name": "ipython",
    "version": 3
   },
   "file_extension": ".py",
   "mimetype": "text/x-python",
   "name": "python",
   "nbconvert_exporter": "python",
   "pygments_lexer": "ipython3",
   "version": "3.10.4"
  },
  "orig_nbformat": 4
 },
 "nbformat": 4,
 "nbformat_minor": 2
}
