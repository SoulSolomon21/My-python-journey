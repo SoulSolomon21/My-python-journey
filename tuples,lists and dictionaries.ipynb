{
 "cells": [
  {
   "cell_type": "code",
   "execution_count": null,
   "metadata": {},
   "outputs": [],
   "source": [
    "print(\"hello\")"
   ]
  },
  {
   "cell_type": "code",
   "execution_count": null,
   "metadata": {},
   "outputs": [],
   "source": [
    "countries = ('uganda','kenya','sudan','congo','rwanda')\n",
    "print(countries)\n",
    "\n",
    "for i in countries:\n",
    "    print(i)\n",
    "\n",
    "choice = str(input(\"Enter one of the countries above: \"))\n",
    "\n",
    "for i in countries:\n",
    "    if choice == i:\n",
    "        print({countries.index(choice)})\n",
    "\n",
    "num = int(input(\"Enter a number from 1 to 5\"))\n",
    "\n",
    "if num > 0 and num <  6:\n",
    "    print(countries[num - 1])\n",
    "    \n",
    "    "
   ]
  },
  {
   "cell_type": "code",
   "execution_count": null,
   "metadata": {},
   "outputs": [],
   "source": [
    "sports = ['golf','volleyball']\n",
    "fav_sport = str(input(\"What is your favorite sport? \"))\n",
    "sports.append(fav_sport)\n",
    "sports.sort()\n",
    "print(sports)"
   ]
  },
  {
   "cell_type": "code",
   "execution_count": null,
   "metadata": {},
   "outputs": [],
   "source": [
    "subjects = ['math','chemistry','biology','history','geography','fine art']\n",
    "hate = str(input(\"which if the above subjects do you hate?\"))\n",
    "hate.lower()\n",
    "subjects.remove(hate)\n",
    "\n",
    "print(subjects)\n"
   ]
  },
  {
   "cell_type": "code",
   "execution_count": null,
   "metadata": {},
   "outputs": [],
   "source": [
    "foods = {}\n",
    "\n",
    "# fave_foods = str(input(\"What are your four favorite foods? \"))\n",
    "\n",
    "for i in range(1,5):\n",
    "    fave_foods = str(input(\"What are your four favorite foods? \"))\n",
    "    foods[i] = fave_foods\n",
    "    \n",
    "print(foods)\n",
    "dislike = str(input(\"Which food do you want to get rid of?\"))\n",
    "\n",
    "for i in range(1,5):\n",
    "    if dislike == foods[i]:\n",
    "        del foods[i]\n",
    "print(foods)\n"
   ]
  },
  {
   "cell_type": "code",
   "execution_count": null,
   "metadata": {},
   "outputs": [],
   "source": [
    "colours = ['red','green','yellow','blue','white','cyan','magenta','peach','orange','black']\n",
    "\n",
    "start = int(input(\"Enter a number from 0 to 4: \"))\n",
    "end = int(input(\"Enter a number between 5 and 9: \"))\n",
    "\n",
    "print(colours[start:end])"
   ]
  },
  {
   "cell_type": "code",
   "execution_count": null,
   "metadata": {},
   "outputs": [],
   "source": [
    "numbers = [928,530,520,792]\n",
    "\n",
    "for i in numbers:\n",
    "    print(i)\n",
    "\n",
    "num = int(input(\"Enter a three digit number: \"))\n",
    "if num in numbers:\n",
    "    print(\"the index of your number is \"+ str(numbers.index(num)))    \n",
    "else:\n",
    "    print(\"That is not in the list\")"
   ]
  },
  {
   "cell_type": "code",
   "execution_count": null,
   "metadata": {},
   "outputs": [],
   "source": [
    "guests = [] \n",
    "\n",
    "print(\"Enter the names of three people you want to invite to your party: \")\n",
    "for i in range(0,3):\n",
    "    name = str(input(\"Enter the name: \"))\n",
    "    guests.append(name)\n",
    "\n",
    "continues = True\n",
    "while continues == True:\n",
    "    choice = str(input(\"Do you want to add other names? \\n if yes, enter \\'yes\\' , if no enter \\'no\\'\"))\n",
    "    if choice == 'yes':\n",
    "        names = str(input(\"Enter a name: \"))\n",
    "        guests.append(names)\n",
    "    else:\n",
    "        print(str(len(guests)) + \" people have been invited to the party!!\")\n",
    "        continues = False\n",
    "        \n"
   ]
  },
  {
   "cell_type": "code",
   "execution_count": null,
   "metadata": {},
   "outputs": [],
   "source": [
    "guests = [] \n",
    "\n",
    "print(\"Enter the names of three people you want to invite to your party: \")\n",
    "for i in range(0,3):\n",
    "    name = str(input(\"Enter the name: \"))\n",
    "    guests.append(name)\n",
    "\n",
    "continues = True\n",
    "while continues == True:\n",
    "    choice = str(input(\"Do you want to add other names? \\n if yes, enter \\'yes\\' , if no enter \\'no\\'\"))\n",
    "    if choice == 'yes':\n",
    "        names = str(input(\"Enter a name: \"))\n",
    "        guests.append(names)\n",
    "    else:\n",
    "        print(str(len(guests)) + \" people have been invited to the party!!\")\n",
    "        continues = False\n",
    "        \n",
    "for i in guests:\n",
    "    print(i)\n",
    "\n",
    "person = str(input(\"enter one of the names on the list: \"))\n",
    "\n",
    "if person in guests:\n",
    "    print(\"the position of this person is \" + str(guests.index(person)))\n",
    "\n",
    "choose = str(input(\"Do you still want this person to come to the party: \"))\n",
    "if choose == 'no':\n",
    "    guests.remove(person.lower())\n",
    "    for i in guests:\n",
    "        print(i)\n",
    "else:\n",
    "    for i in guests:\n",
    "        print(i)\n",
    "    \n",
    "    "
   ]
  },
  {
   "cell_type": "code",
   "execution_count": null,
   "metadata": {},
   "outputs": [],
   "source": [
    "tv_shows = ['The Flash','Ozark','West World','Supergirl']\n",
    "\n",
    "for i in tv_shows:\n",
    "    print(i)\n",
    "\n",
    "show = str(input(\"Enter another show: \"))\n",
    "pos = int(input(\"Enter the position where you want to insert the show: \"))\n",
    "tv_shows.insert(pos,show)\n",
    "for i in tv_shows:\n",
    "    print(i)\n",
    "    \n",
    "    "
   ]
  },
  {
   "cell_type": "code",
   "execution_count": 30,
   "metadata": {},
   "outputs": [
    {
     "name": "stdout",
     "output_type": "stream",
     "text": [
      "21\n",
      "43\n",
      "56\n",
      "21\n",
      "43\n"
     ]
    }
   ],
   "source": [
    "nums = []\n",
    "\n",
    "for i in range(0,3):\n",
    "    number = int(input(\"Enter a number: \"))\n",
    "    nums.append(number)\n",
    "\n",
    "for i in nums:\n",
    "    print(i)\n",
    "\n",
    "choice = str(input(\"Do you still want the last number you added? \"))\n",
    "if choice == 'no':\n",
    "    del nums[-1]\n",
    "\n",
    "for i in nums:\n",
    "    print(i)\n",
    "    "
   ]
  }
 ],
 "metadata": {
  "interpreter": {
   "hash": "df95319d8ce4e1d89f5365ae10992bc1f65da593082b1d264e8f529830ec2f02"
  },
  "kernelspec": {
   "display_name": "Python 3.10.4 64-bit",
   "language": "python",
   "name": "python3"
  },
  "language_info": {
   "codemirror_mode": {
    "name": "ipython",
    "version": 3
   },
   "file_extension": ".py",
   "mimetype": "text/x-python",
   "name": "python",
   "nbconvert_exporter": "python",
   "pygments_lexer": "ipython3",
   "version": "3.10.4"
  },
  "orig_nbformat": 4
 },
 "nbformat": 4,
 "nbformat_minor": 2
}
